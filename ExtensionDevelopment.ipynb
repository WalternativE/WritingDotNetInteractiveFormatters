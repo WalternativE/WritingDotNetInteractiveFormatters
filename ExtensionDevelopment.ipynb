{
 "cells": [
  {
   "cell_type": "markdown",
   "metadata": {},
   "source": [
    "When building a dotnet interactive extension it makes sense to use a notebook in the loop. We can even put our build tasks in code cells using powershell and make our work reproducible. It makes sense to delete old artifacts before starting a new build. In order to force a package load when we reference the NuGet package later we should also increment the package version each time we try something new. The last command simply displays the created nuget package (if everything worked as expected)."
   ]
  },
  {
   "cell_type": "code",
   "execution_count": 1,
   "metadata": {},
   "source": [
    "#!fsharp\n",
    "#!pwsh\n",
    "# be aware, that in cases where you use notebooks in VSCode your assumed relative paths will be wrong\n",
    "# it is more secure to make them absolute\n",
    "$pathToProjectRoot = \"/home/gregor/source/repos/WritingDotNetInteractiveFormatters/Dotnet.Interactive.Extension.Plotly.Net\"\n",
    "rm -rf \"$pathToProjectRoot/bin\"\n",
    "\n",
    "dotnet build \"$pathToProjectRoot/Dotnet.Interactive.Extension.Plotly.Net.fsproj\"\n",
    "\n",
    "dotnet pack /p:PackageVersion=0.1.0-dev4 \"$pathToProjectRoot/Dotnet.Interactive.Extension.Plotly.Net.fsproj\"\n",
    "\n",
    "Get-ChildItem -Recurse \"$pathToProjectRoot/bin/Dotnet.Interactive.Extension.Plotly.Net*.nupkg\""
   ],
   "outputs": [
    {
     "output_type": "execute_result",
     "data": {
      "text/plain": "Microsoft (R) Build Engine version 16.7.1+52cd83677 for .NET\n"
     },
     "execution_count": 1,
     "metadata": {}
    },
    {
     "output_type": "execute_result",
     "data": {
      "text/plain": "Copyright (C) Microsoft Corporation. All rights reserved.\n"
     },
     "execution_count": 1,
     "metadata": {}
    },
    {
     "output_type": "execute_result",
     "data": {
      "text/plain": "\n"
     },
     "execution_count": 1,
     "metadata": {}
    },
    {
     "output_type": "execute_result",
     "data": {
      "text/plain": "  Determining projects to restore...\n"
     },
     "execution_count": 1,
     "metadata": {}
    },
    {
     "output_type": "execute_result",
     "data": {
      "text/plain": "/home/gregor/source/repos/WritingDotNetInteractiveFormatters/Dotnet.Interactive.Extension.Plotly.Net/Dotnet.Interactive.Extension.Plotly.Net.fsproj : warning NU1605: Detected package downgrade: FSharp.Core from 5.0.1-beta.20552.1 to 4.7.2. Reference the package directly from the project to select a different version. \n"
     },
     "execution_count": 1,
     "metadata": {}
    },
    {
     "output_type": "execute_result",
     "data": {
      "text/plain": "/home/gregor/source/repos/WritingDotNetInteractiveFormatters/Dotnet.Interactive.Extension.Plotly.Net/Dotnet.Interactive.Extension.Plotly.Net.fsproj : warning NU1605:  Dotnet.Interactive.Extension.Plotly.Net -> Microsoft.DotNet.Interactive.FSharp 1.0.0-beta.20553.2 -> Microsoft.DotNet.Interactive.FSharp.Internal 1.0.0-beta.20553.2 -> FSharp.Core (>= 5.0.1-beta.20552.1) \n"
     },
     "execution_count": 1,
     "metadata": {}
    },
    {
     "output_type": "execute_result",
     "data": {
      "text/plain": "/home/gregor/source/repos/WritingDotNetInteractiveFormatters/Dotnet.Interactive.Extension.Plotly.Net/Dotnet.Interactive.Extension.Plotly.Net.fsproj : warning NU1605:  Dotnet.Interactive.Extension.Plotly.Net -> FSharp.Core (>= 4.7.2)\n"
     },
     "execution_count": 1,
     "metadata": {}
    },
    {
     "output_type": "execute_result",
     "data": {
      "text/plain": "  Restored /home/gregor/source/repos/WritingDotNetInteractiveFormatters/Dotnet.Interactive.Extension.Plotly.Net/Dotnet.Interactive.Extension.Plotly.Net.fsproj (in 535 ms).\n"
     },
     "execution_count": 1,
     "metadata": {}
    },
    {
     "output_type": "execute_result",
     "data": {
      "text/plain": "/home/gregor/source/repos/WritingDotNetInteractiveFormatters/Dotnet.Interactive.Extension.Plotly.Net/Dotnet.Interactive.Extension.Plotly.Net.fsproj : warning NU1605: Detected package downgrade: FSharp.Core from 5.0.1-beta.20552.1 to 4.7.2. Reference the package directly from the project to select a different version. \n"
     },
     "execution_count": 1,
     "metadata": {}
    },
    {
     "output_type": "execute_result",
     "data": {
      "text/plain": "/home/gregor/source/repos/WritingDotNetInteractiveFormatters/Dotnet.Interactive.Extension.Plotly.Net/Dotnet.Interactive.Extension.Plotly.Net.fsproj : warning NU1605:  Dotnet.Interactive.Extension.Plotly.Net -> Microsoft.DotNet.Interactive.FSharp 1.0.0-beta.20553.2 -> Microsoft.DotNet.Interactive.FSharp.Internal 1.0.0-beta.20553.2 -> FSharp.Core (>= 5.0.1-beta.20552.1) \n"
     },
     "execution_count": 1,
     "metadata": {}
    },
    {
     "output_type": "execute_result",
     "data": {
      "text/plain": "/home/gregor/source/repos/WritingDotNetInteractiveFormatters/Dotnet.Interactive.Extension.Plotly.Net/Dotnet.Interactive.Extension.Plotly.Net.fsproj : warning NU1605:  Dotnet.Interactive.Extension.Plotly.Net -> FSharp.Core (>= 4.7.2)\n"
     },
     "execution_count": 1,
     "metadata": {}
    },
    {
     "output_type": "execute_result",
     "data": {
      "text/plain": "  Dotnet.Interactive.Extension.Plotly.Net -> /home/gregor/source/repos/WritingDotNetInteractiveFormatters/Dotnet.Interactive.Extension.Plotly.Net/bin/Debug/netcoreapp3.1/Dotnet.Interactive.Extension.Plotly.Net.dll\n"
     },
     "execution_count": 1,
     "metadata": {}
    },
    {
     "output_type": "execute_result",
     "data": {
      "text/plain": "\n"
     },
     "execution_count": 1,
     "metadata": {}
    },
    {
     "output_type": "execute_result",
     "data": {
      "text/plain": "Build succeeded.\n"
     },
     "execution_count": 1,
     "metadata": {}
    },
    {
     "output_type": "execute_result",
     "data": {
      "text/plain": "\n"
     },
     "execution_count": 1,
     "metadata": {}
    },
    {
     "output_type": "execute_result",
     "data": {
      "text/plain": "/home/gregor/source/repos/WritingDotNetInteractiveFormatters/Dotnet.Interactive.Extension.Plotly.Net/Dotnet.Interactive.Extension.Plotly.Net.fsproj : warning NU1605: Detected package downgrade: FSharp.Core from 5.0.1-beta.20552.1 to 4.7.2. Reference the package directly from the project to select a different version. \n"
     },
     "execution_count": 1,
     "metadata": {}
    },
    {
     "output_type": "execute_result",
     "data": {
      "text/plain": "/home/gregor/source/repos/WritingDotNetInteractiveFormatters/Dotnet.Interactive.Extension.Plotly.Net/Dotnet.Interactive.Extension.Plotly.Net.fsproj : warning NU1605:  Dotnet.Interactive.Extension.Plotly.Net -> Microsoft.DotNet.Interactive.FSharp 1.0.0-beta.20553.2 -> Microsoft.DotNet.Interactive.FSharp.Internal 1.0.0-beta.20553.2 -> FSharp.Core (>= 5.0.1-beta.20552.1) \n"
     },
     "execution_count": 1,
     "metadata": {}
    },
    {
     "output_type": "execute_result",
     "data": {
      "text/plain": "/home/gregor/source/repos/WritingDotNetInteractiveFormatters/Dotnet.Interactive.Extension.Plotly.Net/Dotnet.Interactive.Extension.Plotly.Net.fsproj : warning NU1605:  Dotnet.Interactive.Extension.Plotly.Net -> FSharp.Core (>= 4.7.2)\n"
     },
     "execution_count": 1,
     "metadata": {}
    },
    {
     "output_type": "execute_result",
     "data": {
      "text/plain": "/home/gregor/source/repos/WritingDotNetInteractiveFormatters/Dotnet.Interactive.Extension.Plotly.Net/Dotnet.Interactive.Extension.Plotly.Net.fsproj : warning NU1605: Detected package downgrade: FSharp.Core from 5.0.1-beta.20552.1 to 4.7.2. Reference the package directly from the project to select a different version. \n"
     },
     "execution_count": 1,
     "metadata": {}
    },
    {
     "output_type": "execute_result",
     "data": {
      "text/plain": "/home/gregor/source/repos/WritingDotNetInteractiveFormatters/Dotnet.Interactive.Extension.Plotly.Net/Dotnet.Interactive.Extension.Plotly.Net.fsproj : warning NU1605:  Dotnet.Interactive.Extension.Plotly.Net -> Microsoft.DotNet.Interactive.FSharp 1.0.0-beta.20553.2 -> Microsoft.DotNet.Interactive.FSharp.Internal 1.0.0-beta.20553.2 -> FSharp.Core (>= 5.0.1-beta.20552.1) \n"
     },
     "execution_count": 1,
     "metadata": {}
    },
    {
     "output_type": "execute_result",
     "data": {
      "text/plain": "/home/gregor/source/repos/WritingDotNetInteractiveFormatters/Dotnet.Interactive.Extension.Plotly.Net/Dotnet.Interactive.Extension.Plotly.Net.fsproj : warning NU1605:  Dotnet.Interactive.Extension.Plotly.Net -> FSharp.Core (>= 4.7.2)\n"
     },
     "execution_count": 1,
     "metadata": {}
    },
    {
     "output_type": "execute_result",
     "data": {
      "text/plain": "    2 Warning(s)\n"
     },
     "execution_count": 1,
     "metadata": {}
    },
    {
     "output_type": "execute_result",
     "data": {
      "text/plain": "    0 Error(s)\n"
     },
     "execution_count": 1,
     "metadata": {}
    },
    {
     "output_type": "execute_result",
     "data": {
      "text/plain": "\n"
     },
     "execution_count": 1,
     "metadata": {}
    },
    {
     "output_type": "execute_result",
     "data": {
      "text/plain": "Time Elapsed 00:00:05.47\n"
     },
     "execution_count": 1,
     "metadata": {}
    },
    {
     "output_type": "execute_result",
     "data": {
      "text/plain": "Microsoft (R) Build Engine version 16.7.1+52cd83677 for .NET\n"
     },
     "execution_count": 1,
     "metadata": {}
    },
    {
     "output_type": "execute_result",
     "data": {
      "text/plain": "Copyright (C) Microsoft Corporation. All rights reserved.\n"
     },
     "execution_count": 1,
     "metadata": {}
    },
    {
     "output_type": "execute_result",
     "data": {
      "text/plain": "\n"
     },
     "execution_count": 1,
     "metadata": {}
    },
    {
     "output_type": "execute_result",
     "data": {
      "text/plain": "  Determining projects to restore...\n"
     },
     "execution_count": 1,
     "metadata": {}
    },
    {
     "output_type": "execute_result",
     "data": {
      "text/plain": "/home/gregor/source/repos/WritingDotNetInteractiveFormatters/Dotnet.Interactive.Extension.Plotly.Net/Dotnet.Interactive.Extension.Plotly.Net.fsproj : warning NU1605: Detected package downgrade: FSharp.Core from 5.0.1-beta.20552.1 to 4.7.2. Reference the package directly from the project to select a different version. \n"
     },
     "execution_count": 1,
     "metadata": {}
    },
    {
     "output_type": "execute_result",
     "data": {
      "text/plain": "/home/gregor/source/repos/WritingDotNetInteractiveFormatters/Dotnet.Interactive.Extension.Plotly.Net/Dotnet.Interactive.Extension.Plotly.Net.fsproj : warning NU1605:  Dotnet.Interactive.Extension.Plotly.Net -> Microsoft.DotNet.Interactive.FSharp 1.0.0-beta.20553.2 -> Microsoft.DotNet.Interactive.FSharp.Internal 1.0.0-beta.20553.2 -> FSharp.Core (>= 5.0.1-beta.20552.1) \n"
     },
     "execution_count": 1,
     "metadata": {}
    },
    {
     "output_type": "execute_result",
     "data": {
      "text/plain": "/home/gregor/source/repos/WritingDotNetInteractiveFormatters/Dotnet.Interactive.Extension.Plotly.Net/Dotnet.Interactive.Extension.Plotly.Net.fsproj : warning NU1605:  Dotnet.Interactive.Extension.Plotly.Net -> FSharp.Core (>= 4.7.2)\n"
     },
     "execution_count": 1,
     "metadata": {}
    },
    {
     "output_type": "execute_result",
     "data": {
      "text/plain": "  Restored /home/gregor/source/repos/WritingDotNetInteractiveFormatters/Dotnet.Interactive.Extension.Plotly.Net/Dotnet.Interactive.Extension.Plotly.Net.fsproj (in 584 ms).\n"
     },
     "execution_count": 1,
     "metadata": {}
    },
    {
     "output_type": "execute_result",
     "data": {
      "text/plain": "/home/gregor/source/repos/WritingDotNetInteractiveFormatters/Dotnet.Interactive.Extension.Plotly.Net/Dotnet.Interactive.Extension.Plotly.Net.fsproj : warning NU1605: Detected package downgrade: FSharp.Core from 5.0.1-beta.20552.1 to 4.7.2. Reference the package directly from the project to select a different version. \n"
     },
     "execution_count": 1,
     "metadata": {}
    },
    {
     "output_type": "execute_result",
     "data": {
      "text/plain": "/home/gregor/source/repos/WritingDotNetInteractiveFormatters/Dotnet.Interactive.Extension.Plotly.Net/Dotnet.Interactive.Extension.Plotly.Net.fsproj : warning NU1605:  Dotnet.Interactive.Extension.Plotly.Net -> Microsoft.DotNet.Interactive.FSharp 1.0.0-beta.20553.2 -> Microsoft.DotNet.Interactive.FSharp.Internal 1.0.0-beta.20553.2 -> FSharp.Core (>= 5.0.1-beta.20552.1) \n"
     },
     "execution_count": 1,
     "metadata": {}
    },
    {
     "output_type": "execute_result",
     "data": {
      "text/plain": "/home/gregor/source/repos/WritingDotNetInteractiveFormatters/Dotnet.Interactive.Extension.Plotly.Net/Dotnet.Interactive.Extension.Plotly.Net.fsproj : warning NU1605:  Dotnet.Interactive.Extension.Plotly.Net -> FSharp.Core (>= 4.7.2)\n"
     },
     "execution_count": 1,
     "metadata": {}
    },
    {
     "output_type": "execute_result",
     "data": {
      "text/plain": "  Dotnet.Interactive.Extension.Plotly.Net -> /home/gregor/source/repos/WritingDotNetInteractiveFormatters/Dotnet.Interactive.Extension.Plotly.Net/bin/Debug/netcoreapp3.1/Dotnet.Interactive.Extension.Plotly.Net.dll\n"
     },
     "execution_count": 1,
     "metadata": {}
    },
    {
     "output_type": "execute_result",
     "data": {
      "text/plain": "/home/gregor/source/repos/WritingDotNetInteractiveFormatters/Dotnet.Interactive.Extension.Plotly.Net/Dotnet.Interactive.Extension.Plotly.Net.fsproj : warning NU1605: Detected package downgrade: FSharp.Core from 5.0.1-beta.20552.1 to 4.7.2. Reference the package directly from the project to select a different version. \n"
     },
     "execution_count": 1,
     "metadata": {}
    },
    {
     "output_type": "execute_result",
     "data": {
      "text/plain": "/home/gregor/source/repos/WritingDotNetInteractiveFormatters/Dotnet.Interactive.Extension.Plotly.Net/Dotnet.Interactive.Extension.Plotly.Net.fsproj : warning NU1605:  Dotnet.Interactive.Extension.Plotly.Net -> Microsoft.DotNet.Interactive.FSharp 1.0.0-beta.20553.2 -> Microsoft.DotNet.Interactive.FSharp.Internal 1.0.0-beta.20553.2 -> FSharp.Core (>= 5.0.1-beta.20552.1) \n"
     },
     "execution_count": 1,
     "metadata": {}
    },
    {
     "output_type": "execute_result",
     "data": {
      "text/plain": "/home/gregor/source/repos/WritingDotNetInteractiveFormatters/Dotnet.Interactive.Extension.Plotly.Net/Dotnet.Interactive.Extension.Plotly.Net.fsproj : warning NU1605:  Dotnet.Interactive.Extension.Plotly.Net -> FSharp.Core (>= 4.7.2)\n"
     },
     "execution_count": 1,
     "metadata": {}
    },
    {
     "output_type": "execute_result",
     "data": {
      "text/plain": "/home/gregor/source/repos/WritingDotNetInteractiveFormatters/Dotnet.Interactive.Extension.Plotly.Net/Dotnet.Interactive.Extension.Plotly.Net.fsproj : warning NU1605: Detected package downgrade: FSharp.Core from 5.0.1-beta.20552.1 to 4.7.2. Reference the package directly from the project to select a different version. \n"
     },
     "execution_count": 1,
     "metadata": {}
    },
    {
     "output_type": "execute_result",
     "data": {
      "text/plain": "/home/gregor/source/repos/WritingDotNetInteractiveFormatters/Dotnet.Interactive.Extension.Plotly.Net/Dotnet.Interactive.Extension.Plotly.Net.fsproj : warning NU1605:  Dotnet.Interactive.Extension.Plotly.Net -> Microsoft.DotNet.Interactive.FSharp 1.0.0-beta.20553.2 -> Microsoft.DotNet.Interactive.FSharp.Internal 1.0.0-beta.20553.2 -> FSharp.Core (>= 5.0.1-beta.20552.1) \n"
     },
     "execution_count": 1,
     "metadata": {}
    },
    {
     "output_type": "execute_result",
     "data": {
      "text/plain": "/home/gregor/source/repos/WritingDotNetInteractiveFormatters/Dotnet.Interactive.Extension.Plotly.Net/Dotnet.Interactive.Extension.Plotly.Net.fsproj : warning NU1605:  Dotnet.Interactive.Extension.Plotly.Net -> FSharp.Core (>= 4.7.2)\n"
     },
     "execution_count": 1,
     "metadata": {}
    },
    {
     "output_type": "execute_result",
     "data": {
      "text/plain": "  Successfully created package '/home/gregor/source/repos/WritingDotNetInteractiveFormatters/Dotnet.Interactive.Extension.Plotly.Net/bin/Debug/Dotnet.Interactive.Extension.Plotly.Net.0.1.0-dev4.nupkg'.\n"
     },
     "execution_count": 1,
     "metadata": {}
    },
    {
     "output_type": "execute_result",
     "data": {
      "text/plain": "\n"
     },
     "execution_count": 1,
     "metadata": {}
    },
    {
     "output_type": "execute_result",
     "data": {
      "text/plain": "\n"
     },
     "execution_count": 1,
     "metadata": {}
    },
    {
     "output_type": "execute_result",
     "data": {
      "text/plain": "    Directory: /home/gregor/source/repos/WritingDotNetInteractiveFormatters/Dotnet.Interactive.Exte\n"
     },
     "execution_count": 1,
     "metadata": {}
    },
    {
     "output_type": "execute_result",
     "data": {
      "text/plain": "nsion.Plotly.Net/bin/Debug\n"
     },
     "execution_count": 1,
     "metadata": {}
    },
    {
     "output_type": "execute_result",
     "data": {
      "text/plain": "\n"
     },
     "execution_count": 1,
     "metadata": {}
    },
    {
     "output_type": "execute_result",
     "data": {
      "text/plain": "Mode                 LastWriteTime         Length Name\n"
     },
     "execution_count": 1,
     "metadata": {}
    },
    {
     "output_type": "execute_result",
     "data": {
      "text/plain": "----                 -------------         ------ ----\n"
     },
     "execution_count": 1,
     "metadata": {}
    },
    {
     "output_type": "execute_result",
     "data": {
      "text/plain": "-----          11/16/2020    13:39          10386 Dotnet.Interactive.Extension.Plotly.Net.0.1.0-dev\n"
     },
     "execution_count": 1,
     "metadata": {}
    },
    {
     "output_type": "execute_result",
     "data": {
      "text/plain": "                                                  4.nupkg\n"
     },
     "execution_count": 1,
     "metadata": {}
    },
    {
     "output_type": "execute_result",
     "data": {
      "text/plain": "\n"
     },
     "execution_count": 1,
     "metadata": {}
    }
   ]
  },
  {
   "cell_type": "markdown",
   "metadata": {},
   "source": [
    "Now that we have the packed NuGet we should try it out. First we'll have to load it into our current session, though. Fortunately we can do this with the same `#r \"nuget: ...\"` hash directive we've been using all along for other NuGet packages (like `Plotly.NET`). We just have to add a a local NuGet source. We can achieve this by referencing the local (absolute!) path using the `#i \"nuget: ...\" hash directive (or by adding the source to the global NuGet config of the machine - your choice)."
   ]
  },
  {
   "cell_type": "code",
   "execution_count": 1,
   "metadata": {},
   "source": [
    "#!fsharp\n",
    "#r \"nuget: Plotly.NET, 2.0.0-alpha3\"\n",
    "\n",
    "#i \"nuget: /home/gregor/source/repos/WritingDotNetInteractiveFormatters/Dotnet.Interactive.Extension.Plotly.Net/bin\"\n",
    "#r \"nuget: Dotnet.Interactive.Extension.Plotly.Net, 0.1.0-dev4\""
   ],
   "outputs": [
    {
     "output_type": "execute_result",
     "data": {
      "text/html": "<div><strong>Restore sources</strong><ul><li><span>https://pkgs.dev.azure.com/dnceng/public/_packaging/dotnet-tools/nuget/v3/index.json</span></li><li><span> /home/gregor/source/repos/WritingDotNetInteractiveFormatters/Dotnet.Interactive.Extension.Plotly.Net/bin</span></li></ul></div>"
     },
     "execution_count": 1,
     "metadata": {}
    },
    {
     "output_type": "execute_result",
     "data": {
      "text/plain": "Installed package Plotly.NET version 2.0.0-alpha3"
     },
     "execution_count": 1,
     "metadata": {}
    },
    {
     "output_type": "execute_result",
     "data": {
      "text/plain": "Installed package Dotnet.Interactive.Extension.Plotly.Net version 0.1.0-dev4"
     },
     "execution_count": 1,
     "metadata": {}
    },
    {
     "output_type": "execute_result",
     "data": {
      "text/plain": "Loaded Dotnet.Interactive.Extension.Plotly.Net.PlotlyNetFormatterKernelExtension"
     },
     "execution_count": 1,
     "metadata": {}
    },
    {
     "output_type": "execute_result",
     "data": {
      "text/markdown": "Added PlotlyNetFormatterKernelExtension including formatters for GenericChart"
     },
     "execution_count": 1,
     "metadata": {}
    }
   ]
  },
  {
   "cell_type": "markdown",
   "metadata": {},
   "source": [
    "Referencing the extension package will cause the `OnLoadAsync` method to be executed by dotnet interactive. As we register our custom formatter in this method everything should be done already. The output of the last code block would be indicating as much as it tells us, that our Extension was loaded. It even displays our custom load message, neat! The last thing we should do is to test if our `Plotly.NET` charts get formatted as we would expect. Let's do this with a simple scatter plot."
   ]
  },
  {
   "cell_type": "code",
   "execution_count": 1,
   "metadata": {},
   "source": [
    "#!fsharp\n",
    "open Plotly.NET\n",
    "\n",
    "let points = [ for x in -20..20 do (x, x * x) ]\n",
    "Chart.Scatter(xy = points, mode = StyleParam.Mode.Lines_Markers)"
   ],
   "outputs": [
    {
     "output_type": "execute_result",
     "data": {
      "text/html": "<div id=\"610b2244-43b1-4dff-a79e-11cc06dc76b4\" style=\"width: 600px; height: 600px;\"><!-- Plotly chart will be drawn inside this DIV --></div>\n<script type=\"text/javascript\">\n\n            var renderPlotly = function() {\n            var fsharpPlotlyRequire = requirejs.config({context:'fsharp-plotly',paths:{plotly:'https://cdn.plot.ly/plotly-latest.min'}}) || require;;\n            fsharpPlotlyRequire(['plotly'], function(Plotly) {\n\n            var data = [{\"type\":\"scatter\",\"x\":[-20,-19,-18,-17,-16,-15,-14,-13,-12,-11,-10,-9,-8,-7,-6,-5,-4,-3,-2,-1,0,1,2,3,4,5,6,7,8,9,10,11,12,13,14,15,16,17,18,19,20],\"y\":[400,361,324,289,256,225,196,169,144,121,100,81,64,49,36,25,16,9,4,1,0,1,4,9,16,25,36,49,64,81,100,121,144,169,196,225,256,289,324,361,400],\"mode\":\"lines+markers\",\"line\":{\"width\":{}},\"marker\":{}}];\n            var layout = {};\n            var config = {};\n            Plotly.newPlot('610b2244-43b1-4dff-a79e-11cc06dc76b4', data, layout, config);\n});\n            };\n            if ((typeof(requirejs) !==  typeof(Function)) || (typeof(requirejs.config) !== typeof(Function))) { \n                var script = document.createElement(\"script\"); \n                script.setAttribute(\"src\", \"https://cdnjs.cloudflare.com/ajax/libs/require.js/2.3.6/require.min.js\"); \n                script.onload = function(){\n                    renderPlotly();\n                };\n                document.getElementsByTagName(\"head\")[0].appendChild(script); \n            }\n            else {\n                renderPlotly();\n            }\n</script>\n"
     },
     "execution_count": 1,
     "metadata": {}
    }
   ]
  }
 ],
 "metadata": {
  "kernelspec": {
   "display_name": ".NET (C#)",
   "language": "C#",
   "name": ".net-csharp"
  },
  "language_info": {
   "file_extension": ".cs",
   "mimetype": "text/x-csharp",
   "name": "C#",
   "pygments_lexer": "csharp",
   "version": "8.0"
  }
 },
 "nbformat": 4,
 "nbformat_minor": 4
}